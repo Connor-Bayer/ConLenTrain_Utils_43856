{
 "cells": [
  {
   "cell_type": "code",
   "execution_count": null,
   "metadata": {},
   "outputs": [],
   "source": [
    "import pandas as pd\n",
    "from sklearn.neighbors import KNeighborsClassifier\n",
    "from sklearn.pipeline import make_pipeline\n",
    "from sklearn.preprocessing import StandardScaler"
   ]
  },
  {
   "cell_type": "code",
   "execution_count": null,
   "metadata": {},
   "outputs": [],
   "source": [
    "!wget -nc https://archive.ics.uci.edu/ml/machine-learning-databases/00275/Bike-Sharing-Dataset.zip \n",
    "!unzip -n -d data Bike-Sharing-Dataset.zip "
   ]
  },
  {
   "cell_type": "code",
   "execution_count": null,
   "metadata": {},
   "outputs": [],
   "source": [
    "data_path = \"data/day.csv\""
   ]
  },
  {
   "cell_type": "code",
   "execution_count": null,
   "metadata": {},
   "outputs": [],
   "source": [
    "df = pd.read_csv(data_path)"
   ]
  },
  {
   "cell_type": "code",
   "execution_count": null,
   "metadata": {},
   "outputs": [],
   "source": [
    "df"
   ]
  },
  {
   "cell_type": "code",
   "execution_count": null,
   "metadata": {},
   "outputs": [],
   "source": [
    "seasons = {1: \"winter\", 2: \"spring\", 3: \"summer\", 4: \"fall\"}\n",
    "\n",
    "# recoding seasons\n",
    "df[\"season\"] = df[\"season\"].map(seasons)"
   ]
  },
  {
   "cell_type": "code",
   "execution_count": null,
   "metadata": {},
   "outputs": [],
   "source": [
    "train_max_date=\"2012-01-01\"\n",
    "train_mask = df.dteday < train_max_date\n",
    "df_train = df[train_mask]\n",
    "df_test = df[~train_mask]\n",
    "\n",
    "feature_1 = \"temp\"\n",
    "feature_2 = \"casual\"\n",
    "\n"
   ]
  },
  {
   "cell_type": "code",
   "execution_count": null,
   "metadata": {},
   "outputs": [],
   "source": [
    "X_train = df_train[[feature_1, feature_2]]\n",
    "X_test = df_test[[feature_1, feature_2]]\n",
    "\n",
    "Y_train = df_train[\"season\"] == \"winter\"\n",
    "Y_test = df_test[\"season\"] == \"winter\""
   ]
  },
  {
   "cell_type": "code",
   "execution_count": null,
   "metadata": {},
   "outputs": [],
   "source": [
    "max_k = 10\n",
    "k_list = range(1, max_k)\n",
    "\n",
    "for k in k_list:\n",
    "    knn = KNeighborsClassifier(n_neighbors=k)\n",
    "    knn_pipe = make_pipeline(StandardScaler(), knn)\n",
    "    knn_pipe.fit(X_train, Y_train)\n",
    "    print(f\"For k={k} accuracy is {knn_pipe.score(X_test, Y_test)}\")\n",
    "    "
   ]
  }
 ],
 "metadata": {
  "kernelspec": {
   "display_name": ".venv",
   "language": "python",
   "name": "python3"
  },
  "language_info": {
   "codemirror_mode": {
    "name": "ipython",
    "version": 3
   },
   "file_extension": ".py",
   "mimetype": "text/x-python",
   "name": "python",
   "nbconvert_exporter": "python",
   "pygments_lexer": "ipython3",
   "version": "3.10.6"
  }
 },
 "nbformat": 4,
 "nbformat_minor": 2
}
